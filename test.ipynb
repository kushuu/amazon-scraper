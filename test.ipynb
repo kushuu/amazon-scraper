{
 "metadata": {
  "language_info": {
   "codemirror_mode": {
    "name": "ipython",
    "version": 3
   },
   "file_extension": ".py",
   "mimetype": "text/x-python",
   "name": "python",
   "nbconvert_exporter": "python",
   "pygments_lexer": "ipython3",
   "version": "3.8.3-final"
  },
  "orig_nbformat": 2,
  "kernelspec": {
   "name": "python3",
   "display_name": "Python 3",
   "language": "python"
  }
 },
 "nbformat": 4,
 "nbformat_minor": 2,
 "cells": [
  {
   "cell_type": "code",
   "execution_count": 1,
   "metadata": {},
   "outputs": [],
   "source": [
    "import pandas as pd\n",
    "df = pd.read_csv('amazon_data.csv')"
   ]
  },
  {
   "cell_type": "code",
   "execution_count": 2,
   "metadata": {},
   "outputs": [
    {
     "output_type": "stream",
     "name": "stdout",
     "text": [
      "<class 'pandas.core.frame.DataFrame'>\nRangeIndex: 19 entries, 0 to 18\nData columns (total 6 columns):\n #   Column            Non-Null Count  Dtype \n---  ------            --------------  ----- \n 0   product_author    17 non-null     object\n 1   product_img_link  17 non-null     object\n 2   product_name      1 non-null      object\n 3   product_price     17 non-null     object\n 4   product_ratings   17 non-null     object\n 5   product_stars     17 non-null     object\ndtypes: object(6)\nmemory usage: 1.0+ KB\n"
     ]
    }
   ],
   "source": [
    "df.info()"
   ]
  },
  {
   "cell_type": "code",
   "execution_count": 3,
   "metadata": {},
   "outputs": [],
   "source": [
    "df = df.iloc[1:-2]"
   ]
  },
  {
   "cell_type": "code",
   "execution_count": 4,
   "metadata": {},
   "outputs": [],
   "source": [
    "new_auths = []\n",
    "for row in df['product_author']:\n",
    "    if type(row) != float:\n",
    "        new_auths.append(row.lstrip('\\n').rstrip('\\n'))\n",
    "\n",
    "df['product_author'] = new_auths"
   ]
  },
  {
   "cell_type": "code",
   "execution_count": 5,
   "metadata": {},
   "outputs": [
    {
     "output_type": "execute_result",
     "data": {
      "text/plain": [
       "      product_author                                   product_img_link  \\\n",
       "1       Barack Obama  https://m.media-amazon.com/images/I/81NI6sqvvk...   \n",
       "2       Cicely Tyson  https://m.media-amazon.com/images/I/81FeR-7X-W...   \n",
       "3     Holly Whitaker  https://m.media-amazon.com/images/I/71gnwhv3Zs...   \n",
       "4      Claudia Oshry  https://m.media-amazon.com/images/I/41q4vz8jBy...   \n",
       "5      Katherine May  https://m.media-amazon.com/images/I/A1Fo0xS8EG...   \n",
       "6        Joan Didion  https://m.media-amazon.com/images/I/61wkQ7DtpM...   \n",
       "7          Beau Wise  https://m.media-amazon.com/images/I/81aoGLGfD+...   \n",
       "8       Amber Ruffin  https://m.media-amazon.com/images/I/81srvVn-Y2...   \n",
       "9   Janice P. Nimura  https://m.media-amazon.com/images/I/71FcgmgBvW...   \n",
       "10    Charles M Blow  https://m.media-amazon.com/images/I/81zv+geN0G...   \n",
       "11        Sal Iacono  https://m.media-amazon.com/images/I/71tKPXsiUM...   \n",
       "12   Frank Figliuzzi  https://m.media-amazon.com/images/I/91GUzJp+Zr...   \n",
       "13   Wright Thompson  https://m.media-amazon.com/images/I/91VQtvnfr0...   \n",
       "14        Ty Seidule  https://m.media-amazon.com/images/I/81oGBeoAiJ...   \n",
       "15      Alexi Pappas  https://m.media-amazon.com/images/I/81hWHR+pOx...   \n",
       "16       Craig Unger  https://m.media-amazon.com/images/I/910c-DHKXw...   \n",
       "\n",
       "   product_name product_price product_ratings       product_stars  \n",
       "1           NaN           0,.          67,503  4.9 out of 5 stars  \n",
       "2           NaN          18,.              20  4.7 out of 5 stars  \n",
       "3           NaN          12,.           1,601  4.4 out of 5 stars  \n",
       "4           NaN          17,.             271  4.7 out of 5 stars  \n",
       "5           NaN          20,.             681  4.5 out of 5 stars  \n",
       "6           NaN          19,.               8  3.6 out of 5 stars  \n",
       "7           NaN          17,.             150  4.8 out of 5 stars  \n",
       "8           NaN          19,.             348  4.9 out of 5 stars  \n",
       "9           NaN          22,.              20  4.5 out of 5 stars  \n",
       "10          NaN          18,.               6  5.0 out of 5 stars  \n",
       "11          NaN          24,.              31  4.2 out of 5 stars  \n",
       "12          NaN          17,.             163  4.7 out of 5 stars  \n",
       "13          NaN          23,.           1,194  4.6 out of 5 stars  \n",
       "14          NaN          17,.              14  2.5 out of 5 stars  \n",
       "15          NaN          23,.             105  4.9 out of 5 stars  \n",
       "16          NaN          26,.               6  3.3 out of 5 stars  "
      ],
      "text/html": "<div>\n<style scoped>\n    .dataframe tbody tr th:only-of-type {\n        vertical-align: middle;\n    }\n\n    .dataframe tbody tr th {\n        vertical-align: top;\n    }\n\n    .dataframe thead th {\n        text-align: right;\n    }\n</style>\n<table border=\"1\" class=\"dataframe\">\n  <thead>\n    <tr style=\"text-align: right;\">\n      <th></th>\n      <th>product_author</th>\n      <th>product_img_link</th>\n      <th>product_name</th>\n      <th>product_price</th>\n      <th>product_ratings</th>\n      <th>product_stars</th>\n    </tr>\n  </thead>\n  <tbody>\n    <tr>\n      <th>1</th>\n      <td>Barack Obama</td>\n      <td>https://m.media-amazon.com/images/I/81NI6sqvvk...</td>\n      <td>NaN</td>\n      <td>0,.</td>\n      <td>67,503</td>\n      <td>4.9 out of 5 stars</td>\n    </tr>\n    <tr>\n      <th>2</th>\n      <td>Cicely Tyson</td>\n      <td>https://m.media-amazon.com/images/I/81FeR-7X-W...</td>\n      <td>NaN</td>\n      <td>18,.</td>\n      <td>20</td>\n      <td>4.7 out of 5 stars</td>\n    </tr>\n    <tr>\n      <th>3</th>\n      <td>Holly Whitaker</td>\n      <td>https://m.media-amazon.com/images/I/71gnwhv3Zs...</td>\n      <td>NaN</td>\n      <td>12,.</td>\n      <td>1,601</td>\n      <td>4.4 out of 5 stars</td>\n    </tr>\n    <tr>\n      <th>4</th>\n      <td>Claudia Oshry</td>\n      <td>https://m.media-amazon.com/images/I/41q4vz8jBy...</td>\n      <td>NaN</td>\n      <td>17,.</td>\n      <td>271</td>\n      <td>4.7 out of 5 stars</td>\n    </tr>\n    <tr>\n      <th>5</th>\n      <td>Katherine May</td>\n      <td>https://m.media-amazon.com/images/I/A1Fo0xS8EG...</td>\n      <td>NaN</td>\n      <td>20,.</td>\n      <td>681</td>\n      <td>4.5 out of 5 stars</td>\n    </tr>\n    <tr>\n      <th>6</th>\n      <td>Joan Didion</td>\n      <td>https://m.media-amazon.com/images/I/61wkQ7DtpM...</td>\n      <td>NaN</td>\n      <td>19,.</td>\n      <td>8</td>\n      <td>3.6 out of 5 stars</td>\n    </tr>\n    <tr>\n      <th>7</th>\n      <td>Beau Wise</td>\n      <td>https://m.media-amazon.com/images/I/81aoGLGfD+...</td>\n      <td>NaN</td>\n      <td>17,.</td>\n      <td>150</td>\n      <td>4.8 out of 5 stars</td>\n    </tr>\n    <tr>\n      <th>8</th>\n      <td>Amber Ruffin</td>\n      <td>https://m.media-amazon.com/images/I/81srvVn-Y2...</td>\n      <td>NaN</td>\n      <td>19,.</td>\n      <td>348</td>\n      <td>4.9 out of 5 stars</td>\n    </tr>\n    <tr>\n      <th>9</th>\n      <td>Janice P. Nimura</td>\n      <td>https://m.media-amazon.com/images/I/71FcgmgBvW...</td>\n      <td>NaN</td>\n      <td>22,.</td>\n      <td>20</td>\n      <td>4.5 out of 5 stars</td>\n    </tr>\n    <tr>\n      <th>10</th>\n      <td>Charles M Blow</td>\n      <td>https://m.media-amazon.com/images/I/81zv+geN0G...</td>\n      <td>NaN</td>\n      <td>18,.</td>\n      <td>6</td>\n      <td>5.0 out of 5 stars</td>\n    </tr>\n    <tr>\n      <th>11</th>\n      <td>Sal Iacono</td>\n      <td>https://m.media-amazon.com/images/I/71tKPXsiUM...</td>\n      <td>NaN</td>\n      <td>24,.</td>\n      <td>31</td>\n      <td>4.2 out of 5 stars</td>\n    </tr>\n    <tr>\n      <th>12</th>\n      <td>Frank Figliuzzi</td>\n      <td>https://m.media-amazon.com/images/I/91GUzJp+Zr...</td>\n      <td>NaN</td>\n      <td>17,.</td>\n      <td>163</td>\n      <td>4.7 out of 5 stars</td>\n    </tr>\n    <tr>\n      <th>13</th>\n      <td>Wright Thompson</td>\n      <td>https://m.media-amazon.com/images/I/91VQtvnfr0...</td>\n      <td>NaN</td>\n      <td>23,.</td>\n      <td>1,194</td>\n      <td>4.6 out of 5 stars</td>\n    </tr>\n    <tr>\n      <th>14</th>\n      <td>Ty Seidule</td>\n      <td>https://m.media-amazon.com/images/I/81oGBeoAiJ...</td>\n      <td>NaN</td>\n      <td>17,.</td>\n      <td>14</td>\n      <td>2.5 out of 5 stars</td>\n    </tr>\n    <tr>\n      <th>15</th>\n      <td>Alexi Pappas</td>\n      <td>https://m.media-amazon.com/images/I/81hWHR+pOx...</td>\n      <td>NaN</td>\n      <td>23,.</td>\n      <td>105</td>\n      <td>4.9 out of 5 stars</td>\n    </tr>\n    <tr>\n      <th>16</th>\n      <td>Craig Unger</td>\n      <td>https://m.media-amazon.com/images/I/910c-DHKXw...</td>\n      <td>NaN</td>\n      <td>26,.</td>\n      <td>6</td>\n      <td>3.3 out of 5 stars</td>\n    </tr>\n  </tbody>\n</table>\n</div>"
     },
     "metadata": {},
     "execution_count": 5
    }
   ],
   "source": [
    "df"
   ]
  },
  {
   "cell_type": "code",
   "execution_count": 6,
   "metadata": {},
   "outputs": [
    {
     "output_type": "stream",
     "name": "stdout",
     "text": [
      "<class 'pandas.core.frame.DataFrame'>\nRangeIndex: 16 entries, 1 to 16\nData columns (total 6 columns):\n #   Column            Non-Null Count  Dtype \n---  ------            --------------  ----- \n 0   product_author    16 non-null     object\n 1   product_img_link  16 non-null     object\n 2   product_name      0 non-null      object\n 3   product_price     16 non-null     object\n 4   product_ratings   16 non-null     object\n 5   product_stars     16 non-null     object\ndtypes: object(6)\nmemory usage: 900.0+ bytes\n"
     ]
    }
   ],
   "source": [
    "df.info()"
   ]
  },
  {
   "cell_type": "code",
   "execution_count": 7,
   "metadata": {},
   "outputs": [
    {
     "output_type": "stream",
     "name": "stdout",
     "text": [
      "https://m.media-amazon.com/images/I/81NI6sqvvkL._AC_UY218_.jpg\nhttps://m.media-amazon.com/images/I/81FeR-7X-WL._AC_UY218_.jpg\nhttps://m.media-amazon.com/images/I/71gnwhv3ZsL._AC_UY218_.jpg\nhttps://m.media-amazon.com/images/I/41q4vz8jByL._AC_UY218_.jpg\nhttps://m.media-amazon.com/images/I/A1Fo0xS8EGL._AC_UY218_.jpg\nhttps://m.media-amazon.com/images/I/61wkQ7DtpML._AC_UY218_.jpg\nhttps://m.media-amazon.com/images/I/81aoGLGfD+L._AC_UY218_.jpg\nhttps://m.media-amazon.com/images/I/81srvVn-Y2L._AC_UY218_.jpg\nhttps://m.media-amazon.com/images/I/71FcgmgBvWL._AC_UY218_.jpg\nhttps://m.media-amazon.com/images/I/81zv+geN0GL._AC_UY218_.jpg\nhttps://m.media-amazon.com/images/I/71tKPXsiUML._AC_UY218_.jpg\nhttps://m.media-amazon.com/images/I/91GUzJp+ZrL._AC_UY218_.jpg\nhttps://m.media-amazon.com/images/I/91VQtvnfr0L._AC_UY218_.jpg\nhttps://m.media-amazon.com/images/I/81oGBeoAiJL._AC_UY218_.jpg\nhttps://m.media-amazon.com/images/I/81hWHR+pOxL._AC_UY218_.jpg\nhttps://m.media-amazon.com/images/I/910c-DHKXwL._AC_UY218_.jpg\n"
     ]
    }
   ],
   "source": [
    "for i in df['product_img_link']:\n",
    "    print(i)"
   ]
  }
 ]
}